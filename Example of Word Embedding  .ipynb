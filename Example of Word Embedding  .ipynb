{
 "cells": [
  {
   "cell_type": "code",
   "execution_count": 20,
   "id": "9d673499",
   "metadata": {},
   "outputs": [],
   "source": [
    "from tensorflow.keras.layers import Embedding\n",
    "from tensorflow.keras.preprocessing.sequence import pad_sequences\n",
    "from tensorflow.keras.models import Sequential\n",
    "#from keras.layers import Dense, Activation, Flatten\n",
    "from tensorflow.keras.layers import Dense, Activation, Flatten\n",
    "import numpy as np"
   ]
  },
  {
   "cell_type": "code",
   "execution_count": 4,
   "id": "e4996ae1",
   "metadata": {},
   "outputs": [],
   "source": [
    "from numpy import array\n",
    "from tensorflow.keras.preprocessing.text import one_hot\n",
    "#define a document \n",
    "docs = ['Well done!','Good work','Great effort','nice work',\n",
    "        'Excellent!','Weak','Poor effort!','not good','poor work',\n",
    "        'Could have done better.']\n",
    "#define a class label for doc \n",
    "labels = array([1,1,1,1,1,0,0,0,0,0])\n"
   ]
  },
  {
   "cell_type": "code",
   "execution_count": 7,
   "id": "be4791ca",
   "metadata": {},
   "outputs": [
    {
     "name": "stdout",
     "output_type": "stream",
     "text": [
      "[[19, 44], [48, 37], [13, 5], [46, 37], [48], [13], [19, 5], [41, 48], [19, 37], [14, 33, 44, 5]]\n"
     ]
    }
   ],
   "source": [
    "#integer encode the document \n",
    "vocab_size = 50\n",
    "encoded_doc = [one_hot(d,vocab_size) for d in docs]\n",
    "print(encoded_doc)"
   ]
  },
  {
   "cell_type": "code",
   "execution_count": 14,
   "id": "05291584",
   "metadata": {},
   "outputs": [
    {
     "name": "stdout",
     "output_type": "stream",
     "text": [
      "[[19 44  0  0]\n",
      " [48 37  0  0]\n",
      " [13  5  0  0]\n",
      " [46 37  0  0]\n",
      " [48  0  0  0]\n",
      " [13  0  0  0]\n",
      " [19  5  0  0]\n",
      " [41 48  0  0]\n",
      " [19 37  0  0]\n",
      " [14 33 44  5]]\n"
     ]
    }
   ],
   "source": [
    "#pad document to max length of word \n",
    "max_length = 4\n",
    "padded_doc = pad_sequences(encoded_doc,maxlen=max_length,padding='post')\n",
    "print(padded_doc)"
   ]
  },
  {
   "cell_type": "code",
   "execution_count": 28,
   "id": "88a47a58",
   "metadata": {},
   "outputs": [
    {
     "name": "stdout",
     "output_type": "stream",
     "text": [
      "Model: \"sequential_11\"\n",
      "_________________________________________________________________\n",
      "Layer (type)                 Output Shape              Param #   \n",
      "=================================================================\n",
      "embedding_11 (Embedding)     (None, 4, 8)              400       \n",
      "_________________________________________________________________\n",
      "flatten_7 (Flatten)          (None, 32)                0         \n",
      "_________________________________________________________________\n",
      "dense_7 (Dense)              (None, 1)                 33        \n",
      "=================================================================\n",
      "Total params: 433\n",
      "Trainable params: 433\n",
      "Non-trainable params: 0\n",
      "_________________________________________________________________\n",
      "None\n",
      "WARNING:tensorflow:6 out of the last 6 calls to <function Model.make_test_function.<locals>.test_function at 0x0000025A3F33F828> triggered tf.function retracing. Tracing is expensive and the excessive number of tracings could be due to (1) creating @tf.function repeatedly in a loop, (2) passing tensors with different shapes, (3) passing Python objects instead of tensors. For (1), please define your @tf.function outside of the loop. For (2), @tf.function has experimental_relax_shapes=True option that relaxes argument shapes that can avoid unnecessary retracing. For (3), please refer to https://www.tensorflow.org/tutorials/customization/performance#python_or_tensor_args and https://www.tensorflow.org/api_docs/python/tf/function for  more details.\n",
      "Accuracy 60.000002:\n",
      "Loss  0.6330486536026001\n"
     ]
    }
   ],
   "source": [
    "#define the model\n",
    "dim = 8\n",
    "model =Sequential()\n",
    "model.add(Embedding(vocab_size,8,input_length=max_length))\n",
    "model.add(Flatten())\n",
    "model.add(Dense(1,activation='sigmoid'))\n",
    "#compile the model\n",
    "model.compile(optimizer='adam',loss='binary_crossentropy',metrics=['accuracy'])\n",
    "#summarize the model\n",
    "print(model.summary())\n",
    "\n",
    "#fit the model\n",
    "model.fit(padded_doc,labels,epochs=50,verbose=0)\n",
    "\n",
    "#evaluate the model\n",
    "loss,accuracy = model.evaluate(padded_doc,labels,verbose=0)\n",
    "print(\"Accuracy %f:\"%(accuracy*100))\n",
    "print(\"Loss \",loss)\n",
    "          "
   ]
  },
  {
   "cell_type": "code",
   "execution_count": null,
   "id": "9c23a644",
   "metadata": {},
   "outputs": [],
   "source": []
  },
  {
   "cell_type": "code",
   "execution_count": null,
   "id": "be6f8ff1",
   "metadata": {},
   "outputs": [],
   "source": []
  }
 ],
 "metadata": {
  "kernelspec": {
   "display_name": "Python 3 (ipykernel)",
   "language": "python",
   "name": "python3"
  },
  "language_info": {
   "codemirror_mode": {
    "name": "ipython",
    "version": 3
   },
   "file_extension": ".py",
   "mimetype": "text/x-python",
   "name": "python",
   "nbconvert_exporter": "python",
   "pygments_lexer": "ipython3",
   "version": "3.7.13"
  }
 },
 "nbformat": 4,
 "nbformat_minor": 5
}
